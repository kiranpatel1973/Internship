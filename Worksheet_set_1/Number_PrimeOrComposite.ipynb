{
 "cells": [
  {
   "cell_type": "code",
   "execution_count": 14,
   "id": "cbc52c51",
   "metadata": {},
   "outputs": [
    {
     "name": "stdout",
     "output_type": "stream",
     "text": [
      "Enter any number :10\n",
      "10 is a Composite Number\n"
     ]
    }
   ],
   "source": [
    "## Program to find wheather the number is prime or composite\n",
    "\n",
    "num = int(input(\"Enter any number :\"))\n",
    "if num < 1:\n",
    "    print(\"Please enter an positive number\")\n",
    "elif num == 1:\n",
    "    print(num,\" is neither Prime nor Composite\")\n",
    "else:\n",
    "    for i in range(2,(num//2)+1):\n",
    "        if (num % i) == 0:\n",
    "            print(num, \"is a Composite Number\")\n",
    "            break\n",
    "        else:\n",
    "            print(num,\"is a Prime Number\")\n",
    "   "
   ]
  },
  {
   "cell_type": "code",
   "execution_count": null,
   "id": "bcee96ee",
   "metadata": {},
   "outputs": [],
   "source": []
  },
  {
   "cell_type": "code",
   "execution_count": null,
   "id": "aa0dc5d8",
   "metadata": {},
   "outputs": [],
   "source": []
  }
 ],
 "metadata": {
  "kernelspec": {
   "display_name": "Python 3 (ipykernel)",
   "language": "python",
   "name": "python3"
  },
  "language_info": {
   "codemirror_mode": {
    "name": "ipython",
    "version": 3
   },
   "file_extension": ".py",
   "mimetype": "text/x-python",
   "name": "python",
   "nbconvert_exporter": "python",
   "pygments_lexer": "ipython3",
   "version": "3.9.7"
  }
 },
 "nbformat": 4,
 "nbformat_minor": 5
}
