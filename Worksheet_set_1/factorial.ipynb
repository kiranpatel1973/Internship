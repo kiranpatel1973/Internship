{
 "cells": [
  {
   "cell_type": "code",
   "execution_count": 3,
   "id": "a2fe6cf9",
   "metadata": {},
   "outputs": [
    {
     "name": "stdout",
     "output_type": "stream",
     "text": [
      "Enter a number: 5\n",
      "Factorial of the number 5 is 120\n",
      "Factorial of the number 5 using function is 120\n"
     ]
    }
   ],
   "source": [
    "## E.g.  3! = 3*2*1 = 6.\n",
    "\n",
    "num = int(input(\"Enter a number: \")) # To take input from the user\n",
    "\n",
    "## Funtion to calculate factorial of an given number\n",
    "def fac_of_num(num):\n",
    "    fac = 1\n",
    "    for i in range(1,num+1):\n",
    "        fac= fac*i\n",
    "    return fac\n",
    "## Funtion to calculate factorial of an given number\n",
    "\n",
    "## Phython program to find FACTORIAL of the given number\n",
    "\n",
    "fac = 1   # initialise the variable.\n",
    "\n",
    "if num < 0:\n",
    "   print(\"Cannot calculate factorial of negative number\")\n",
    "elif num == 0:\n",
    "   print(\"Factorial of Zero is One\")\n",
    "else:\n",
    "   for i in range(1,num+1):\n",
    "       fac = fac*i\n",
    "   print(\"Factorial of the number\",num,\"is\",fac)\n",
    "\n",
    "a1 = fac_of_num(num)\n",
    "print(\"Factorial of the number\",num,\"using function is\",a1)\n",
    "\n",
    "## Phython program to find FACTORIAL of the given number\n"
   ]
  },
  {
   "cell_type": "code",
   "execution_count": null,
   "id": "37c7e46b",
   "metadata": {},
   "outputs": [],
   "source": []
  }
 ],
 "metadata": {
  "kernelspec": {
   "display_name": "Python 3 (ipykernel)",
   "language": "python",
   "name": "python3"
  },
  "language_info": {
   "codemirror_mode": {
    "name": "ipython",
    "version": 3
   },
   "file_extension": ".py",
   "mimetype": "text/x-python",
   "name": "python",
   "nbconvert_exporter": "python",
   "pygments_lexer": "ipython3",
   "version": "3.9.7"
  }
 },
 "nbformat": 4,
 "nbformat_minor": 5
}
