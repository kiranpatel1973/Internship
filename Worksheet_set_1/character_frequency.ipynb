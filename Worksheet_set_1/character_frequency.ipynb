{
 "cells": [
  {
   "cell_type": "code",
   "execution_count": 26,
   "id": "39f9c0a7",
   "metadata": {},
   "outputs": [
    {
     "name": "stdout",
     "output_type": "stream",
     "text": [
      "Enter a string -- INDEPENDENCE DAY\n",
      "Occurence of -  I  =  1  times\n",
      "Occurence of -  N  =  3  times\n",
      "Occurence of -  D  =  3  times\n",
      "Occurence of -  E  =  4  times\n",
      "Occurence of -  P  =  1  times\n",
      "Occurence of -  C  =  1  times\n",
      "Occurence of -  A  =  1  times\n",
      "Occurence of -  Y  =  1  times\n"
     ]
    }
   ],
   "source": [
    "## Program to print frequency of each charaters in a given string.\n",
    "\n",
    "str = input('Enter a string -- ')\n",
    "srt = str.replace(\" \",\"\")     ## Remove Spaces from the string\n",
    "dischr = \"\".join(dict.fromkeys(srt)) ## Print Distinct Characters of the string.\n",
    "for i in range(len(dischr)):\n",
    "    print(\"Occurence of - \",dischr[i],\" = \",srt.count(dischr[i]),\" times\")\n"
   ]
  },
  {
   "cell_type": "code",
   "execution_count": null,
   "id": "729f5912",
   "metadata": {},
   "outputs": [],
   "source": []
  },
  {
   "cell_type": "code",
   "execution_count": null,
   "id": "9eba2779",
   "metadata": {},
   "outputs": [],
   "source": []
  }
 ],
 "metadata": {
  "kernelspec": {
   "display_name": "Python 3 (ipykernel)",
   "language": "python",
   "name": "python3"
  },
  "language_info": {
   "codemirror_mode": {
    "name": "ipython",
    "version": 3
   },
   "file_extension": ".py",
   "mimetype": "text/x-python",
   "name": "python",
   "nbconvert_exporter": "python",
   "pygments_lexer": "ipython3",
   "version": "3.9.7"
  }
 },
 "nbformat": 4,
 "nbformat_minor": 5
}
