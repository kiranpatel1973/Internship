{
 "cells": [
  {
   "cell_type": "code",
   "execution_count": 19,
   "id": "7dd3ccd5",
   "metadata": {},
   "outputs": [],
   "source": [
    "## To Find Third side of an right angle triangle\n",
    "## Phythagorous Theorem \n",
    "\n",
    "\n",
    "def right_angle_triangle(side1,side2,side3):  ## side3 is an hypotenuse\n",
    "    if side1 == str(\"x\"):\n",
    "        return (\"side1 = \" + str(((side3**2) - (side2**2))**0.5))\n",
    "    elif side2 == str(\"x\"):\n",
    "        return (\"side2 = \" + str(((side3**2) - (side1**2))**0.5))\n",
    "    else:\n",
    "        return (\"side3 = \" + str(((side1**2) + (side2**2))**0.5))\n",
    "    \n",
    "    \n",
    "    \n",
    "##right_angle_triangle('x',8,17)  \n",
    "##right_angle_triangle(15,'x',17)  \n",
    "##right_angle_triangle(15,8,'x')  \n",
    "  "
   ]
  },
  {
   "cell_type": "code",
   "execution_count": 20,
   "id": "e60effce",
   "metadata": {},
   "outputs": [
    {
     "data": {
      "text/plain": [
       "'side1 = 15.0'"
      ]
     },
     "execution_count": 20,
     "metadata": {},
     "output_type": "execute_result"
    }
   ],
   "source": [
    "right_angle_triangle('x',8,17)"
   ]
  },
  {
   "cell_type": "code",
   "execution_count": 21,
   "id": "189219d2",
   "metadata": {},
   "outputs": [
    {
     "data": {
      "text/plain": [
       "'side2 = 8.0'"
      ]
     },
     "execution_count": 21,
     "metadata": {},
     "output_type": "execute_result"
    }
   ],
   "source": [
    "right_angle_triangle(15,'x',17)  "
   ]
  },
  {
   "cell_type": "code",
   "execution_count": 22,
   "id": "2aee54a2",
   "metadata": {},
   "outputs": [
    {
     "data": {
      "text/plain": [
       "'side3 = 17.0'"
      ]
     },
     "execution_count": 22,
     "metadata": {},
     "output_type": "execute_result"
    }
   ],
   "source": [
    "right_angle_triangle(15,8,'x')  "
   ]
  },
  {
   "cell_type": "code",
   "execution_count": null,
   "id": "860b35a7",
   "metadata": {},
   "outputs": [],
   "source": []
  }
 ],
 "metadata": {
  "kernelspec": {
   "display_name": "Python 3 (ipykernel)",
   "language": "python",
   "name": "python3"
  },
  "language_info": {
   "codemirror_mode": {
    "name": "ipython",
    "version": 3
   },
   "file_extension": ".py",
   "mimetype": "text/x-python",
   "name": "python",
   "nbconvert_exporter": "python",
   "pygments_lexer": "ipython3",
   "version": "3.9.7"
  }
 },
 "nbformat": 4,
 "nbformat_minor": 5
}
