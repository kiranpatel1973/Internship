{
 "cells": [
  {
   "cell_type": "code",
   "execution_count": 41,
   "id": "68ed8f5f",
   "metadata": {},
   "outputs": [
    {
     "name": "stdout",
     "output_type": "stream",
     "text": [
      "Please enter an string Radar\n",
      "String is PALINDROME\n"
     ]
    }
   ],
   "source": [
    "## Phython Program to check if the given string is palindrome or not\n",
    "## E.g RADAR , MADAM is an palindrome\n",
    "\n",
    "str = input(\"Please enter an string \")\n",
    "if  str.isalpha():  ## Check wheater the string contains number\n",
    "    ## Convert the string in lower case\n",
    "    str = str.casefold()\n",
    "    ## print string characters in reverse.\n",
    "    revstr =\"\"  ## intialise the character variable\n",
    "    for i in reversed(str):\n",
    "        revstr =  revstr + i\n",
    "    ## palindrome check\n",
    "    if (str == revstr):\n",
    "        print(\"String is PALINDROME\")\n",
    "    else:\n",
    "        print(\"String is NOT PALINDROME\")\n",
    "else:\n",
    "    print(\"String has numeric charaters\")\n",
    "    \n",
    "    \n",
    "\n"
   ]
  },
  {
   "cell_type": "code",
   "execution_count": null,
   "id": "bad29496",
   "metadata": {},
   "outputs": [],
   "source": []
  },
  {
   "cell_type": "code",
   "execution_count": null,
   "id": "25a234ad",
   "metadata": {},
   "outputs": [],
   "source": []
  }
 ],
 "metadata": {
  "kernelspec": {
   "display_name": "Python 3 (ipykernel)",
   "language": "python",
   "name": "python3"
  },
  "language_info": {
   "codemirror_mode": {
    "name": "ipython",
    "version": 3
   },
   "file_extension": ".py",
   "mimetype": "text/x-python",
   "name": "python",
   "nbconvert_exporter": "python",
   "pygments_lexer": "ipython3",
   "version": "3.9.7"
  }
 },
 "nbformat": 4,
 "nbformat_minor": 5
}
